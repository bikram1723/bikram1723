{
 "cells": [
  {
   "cell_type": "markdown",
   "id": "df9f6eef-ff39-49e0-8303-53f20c959255",
   "metadata": {},
   "source": [
    "### Importing Numpy"
   ]
  },
  {
   "cell_type": "code",
   "execution_count": 1,
   "id": "151b43c8-45f1-4fd6-a33d-5d65b8a43e03",
   "metadata": {},
   "outputs": [],
   "source": [
    "#Importing numpy\n",
    "import numpy as np"
   ]
  },
  {
   "cell_type": "code",
   "execution_count": 2,
   "id": "4ebe9d19-ff6b-46b6-8d6b-83b20436253c",
   "metadata": {},
   "outputs": [],
   "source": [
    "np.set_printoptions(suppress = True, linewidth = 100, precision = 2)"
   ]
  },
  {
   "cell_type": "markdown",
   "id": "bbf9a628-5638-4396-88e9-3727839b3e4c",
   "metadata": {},
   "source": [
    "### Importing data to check the incomplete data"
   ]
  },
  {
   "cell_type": "code",
   "execution_count": 3,
   "id": "88bfb72f-43c8-4412-9ee0-53c9fcb9977e",
   "metadata": {},
   "outputs": [
    {
     "data": {
      "text/plain": [
       "array([[48010226.  ,         nan,    35000.  , ...,         nan,         nan,     9452.96],\n",
       "       [57693261.  ,         nan,    30000.  , ...,         nan,         nan,     4679.7 ],\n",
       "       [59432726.  ,         nan,    15000.  , ...,         nan,         nan,     1969.83],\n",
       "       ...,\n",
       "       [50415990.  ,         nan,    10000.  , ...,         nan,         nan,     2185.64],\n",
       "       [46154151.  ,         nan,         nan, ...,         nan,         nan,     3199.4 ],\n",
       "       [66055249.  ,         nan,    10000.  , ...,         nan,         nan,      301.9 ]])"
      ]
     },
     "execution_count": 3,
     "metadata": {},
     "output_type": "execute_result"
    }
   ],
   "source": [
    "#Importing raw data\n",
    "raw_data_np = np.genfromtxt(\"loan-data.csv\", delimiter = ';', skip_header = 1, autostrip = True)\n",
    "raw_data_np"
   ]
  },
  {
   "cell_type": "code",
   "execution_count": 4,
   "id": "4e689e9b-292f-4a5c-afe9-10e3c44f1091",
   "metadata": {},
   "outputs": [
    {
     "data": {
      "text/plain": [
       "68616520.0"
      ]
     },
     "execution_count": 4,
     "metadata": {},
     "output_type": "execute_result"
    }
   ],
   "source": [
    "temp_fill = np.nanmax(raw_data_np) + 1\n",
    "temp_fill"
   ]
  },
  {
   "cell_type": "code",
   "execution_count": 5,
   "id": "8041a5fe-0efe-4e9d-9e07-297ee2ec73f0",
   "metadata": {},
   "outputs": [
    {
     "name": "stderr",
     "output_type": "stream",
     "text": [
      "C:\\Users\\peppy_lunatic\\AppData\\Local\\Temp\\ipykernel_5996\\4085619630.py:2: RuntimeWarning: Mean of empty slice\n",
      "  temp_mean = np.nanmean(raw_data_np, axis = 0)\n"
     ]
    },
    {
     "data": {
      "text/plain": [
       "array([54015809.19,         nan,    15273.46,         nan,    15311.04,         nan,       16.62,\n",
       "            440.92,         nan,         nan,         nan,         nan,         nan,     3143.85])"
      ]
     },
     "execution_count": 5,
     "metadata": {},
     "output_type": "execute_result"
    }
   ],
   "source": [
    "#finding the temporary mean to separate the columns for strings and numbers\n",
    "temp_mean = np.nanmean(raw_data_np, axis = 0)\n",
    "temp_mean"
   ]
  },
  {
   "cell_type": "code",
   "execution_count": 6,
   "id": "6962ad11-abbd-4254-8221-ef10df277431",
   "metadata": {},
   "outputs": [
    {
     "name": "stderr",
     "output_type": "stream",
     "text": [
      "C:\\Users\\peppy_lunatic\\AppData\\Local\\Temp\\ipykernel_5996\\2033792930.py:2: RuntimeWarning: All-NaN slice encountered\n",
      "  temporary_stats = np.array([np.nanmin(raw_data_np, axis = 0),\n",
      "C:\\Users\\peppy_lunatic\\AppData\\Local\\Temp\\ipykernel_5996\\2033792930.py:3: RuntimeWarning: Mean of empty slice\n",
      "  np.nanmean(raw_data_np, axis = 0),\n",
      "C:\\Users\\peppy_lunatic\\AppData\\Local\\Temp\\ipykernel_5996\\2033792930.py:4: RuntimeWarning: All-NaN slice encountered\n",
      "  np.nanmax(raw_data_np, axis = 0)])\n"
     ]
    },
    {
     "data": {
      "text/plain": [
       "array([[  373332.  ,         nan,     1000.  ,         nan,     1000.  ,         nan,        6.  ,\n",
       "              31.42,         nan,         nan,         nan,         nan,         nan,        0.  ],\n",
       "       [54015809.19,         nan,    15273.46,         nan,    15311.04,         nan,       16.62,\n",
       "             440.92,         nan,         nan,         nan,         nan,         nan,     3143.85],\n",
       "       [68616519.  ,         nan,    35000.  ,         nan,    35000.  ,         nan,       28.99,\n",
       "            1372.97,         nan,         nan,         nan,         nan,         nan,    41913.62]])"
      ]
     },
     "execution_count": 6,
     "metadata": {},
     "output_type": "execute_result"
    }
   ],
   "source": [
    "#savings the initial stats to check it while cleaning\n",
    "temporary_stats = np.array([np.nanmin(raw_data_np, axis = 0),\n",
    "                            np.nanmean(raw_data_np, axis = 0),\n",
    "                            np.nanmax(raw_data_np, axis = 0)])\n",
    "temporary_stats"
   ]
  },
  {
   "cell_type": "code",
   "execution_count": 7,
   "id": "1a6e4e2e-c811-4895-ab5a-cb4ed4a06d74",
   "metadata": {},
   "outputs": [
    {
     "data": {
      "text/plain": [
       "array([ 1,  3,  5,  8,  9, 10, 11, 12], dtype=int64)"
      ]
     },
     "execution_count": 7,
     "metadata": {},
     "output_type": "execute_result"
    }
   ],
   "source": [
    "#identifying the column index where whe value is string/nan using the temporary mean\n",
    "columns_string = np.argwhere(np.isnan(temp_mean)).squeeze()\n",
    "columns_string"
   ]
  },
  {
   "cell_type": "code",
   "execution_count": 8,
   "id": "9fa81bba-a882-4fe2-b596-facf227f9ea8",
   "metadata": {},
   "outputs": [
    {
     "data": {
      "text/plain": [
       "array([ 0,  2,  4,  6,  7, 13], dtype=int64)"
      ]
     },
     "execution_count": 8,
     "metadata": {},
     "output_type": "execute_result"
    }
   ],
   "source": [
    "#identifying the column index where whe value is numeric using the temporary mean\n",
    "columns_numeric = np.argwhere(np.isnan(temp_mean) == False).squeeze()\n",
    "columns_numeric"
   ]
  },
  {
   "cell_type": "markdown",
   "id": "fe1a00d4-6165-40a2-8e89-b06aa538ba62",
   "metadata": {},
   "source": [
    "### Importing data by separating the strings and numbers"
   ]
  },
  {
   "cell_type": "code",
   "execution_count": 9,
   "id": "20bd3bba-c58f-4491-9341-85a81468c573",
   "metadata": {},
   "outputs": [
    {
     "data": {
      "text/plain": [
       "array([['May-15', 'Current', '36 months', ..., 'Verified',\n",
       "        'https://www.lendingclub.com/browse/loanDetail.action?loan_id=48010226', 'CA'],\n",
       "       ['', 'Current', '36 months', ..., 'Source Verified',\n",
       "        'https://www.lendingclub.com/browse/loanDetail.action?loan_id=57693261', 'NY'],\n",
       "       ['Sep-15', 'Current', '36 months', ..., 'Verified',\n",
       "        'https://www.lendingclub.com/browse/loanDetail.action?loan_id=59432726', 'PA'],\n",
       "       ...,\n",
       "       ['Jun-15', 'Current', '36 months', ..., 'Source Verified',\n",
       "        'https://www.lendingclub.com/browse/loanDetail.action?loan_id=50415990', 'CA'],\n",
       "       ['Apr-15', 'Current', '36 months', ..., 'Source Verified',\n",
       "        'https://www.lendingclub.com/browse/loanDetail.action?loan_id=46154151', 'OH'],\n",
       "       ['Dec-15', 'Current', '36 months', ..., '',\n",
       "        'https://www.lendingclub.com/browse/loanDetail.action?loan_id=66055249', 'IL']],\n",
       "      dtype='<U69')"
      ]
     },
     "execution_count": 9,
     "metadata": {},
     "output_type": "execute_result"
    }
   ],
   "source": [
    "data_string = np.genfromtxt(\"loan-data.csv\",\n",
    "                            delimiter = ';',\n",
    "                            skip_header = 1,\n",
    "                            usecols = columns_string,\n",
    "                            autostrip = True,\n",
    "                            dtype = str)\n",
    "data_string"
   ]
  },
  {
   "cell_type": "code",
   "execution_count": 10,
   "id": "eea17482-2f9a-4ddf-b856-a1ad5e2c1131",
   "metadata": {},
   "outputs": [
    {
     "data": {
      "text/plain": [
       "array([[48010226.  ,    35000.  ,    35000.  ,       13.33,     1184.86,     9452.96],\n",
       "       [57693261.  ,    30000.  ,    30000.  , 68616520.  ,      938.57,     4679.7 ],\n",
       "       [59432726.  ,    15000.  ,    15000.  , 68616520.  ,      494.86,     1969.83],\n",
       "       ...,\n",
       "       [50415990.  ,    10000.  ,    10000.  , 68616520.  , 68616520.  ,     2185.64],\n",
       "       [46154151.  , 68616520.  ,    10000.  ,       16.55,      354.3 ,     3199.4 ],\n",
       "       [66055249.  ,    10000.  ,    10000.  , 68616520.  ,      309.97,      301.9 ]])"
      ]
     },
     "execution_count": 10,
     "metadata": {},
     "output_type": "execute_result"
    }
   ],
   "source": [
    "data_numeric = np.genfromtxt(\"loan-data.csv\",\n",
    "                            delimiter = ';',\n",
    "                            skip_header = 1,\n",
    "                            usecols = columns_numeric,\n",
    "                            autostrip = True,\n",
    "                            filling_values = temp_fill)\n",
    "data_numeric"
   ]
  },
  {
   "cell_type": "markdown",
   "id": "091faea1-4bd6-4971-8817-64a7f84b169e",
   "metadata": {},
   "source": [
    "### Saving the headers"
   ]
  },
  {
   "cell_type": "code",
   "execution_count": 11,
   "id": "fec35edb-7b69-4266-b360-e163fe2c9e5d",
   "metadata": {},
   "outputs": [
    {
     "data": {
      "text/plain": [
       "array(['id', 'issue_d', 'loan_amnt', 'loan_status', 'funded_amnt', 'term', 'int_rate',\n",
       "       'installment', 'grade', 'sub_grade', 'verification_status', 'url', 'addr_state',\n",
       "       'total_pymnt'], dtype='<U19')"
      ]
     },
     "execution_count": 11,
     "metadata": {},
     "output_type": "execute_result"
    }
   ],
   "source": [
    "#loading the dataset again for headers only\n",
    "headers_full = np.genfromtxt(\"loan-data.csv\",\n",
    "                            delimiter = ';',\n",
    "                            skip_footer = np.shape(raw_data_np)[0],\n",
    "                            autostrip = True,\n",
    "                            dtype = str)\n",
    "headers_full"
   ]
  },
  {
   "cell_type": "code",
   "execution_count": 12,
   "id": "5d4163cf-c87f-4501-861c-3a6750e2d99f",
   "metadata": {},
   "outputs": [],
   "source": [
    "#seaprating the headers for strings and numbers\n",
    "headers_string, headers_numeric = headers_full[columns_string], headers_full[columns_numeric]"
   ]
  },
  {
   "cell_type": "code",
   "execution_count": 13,
   "id": "5ff7cfa0-d816-42c3-a510-6f0acd38bb5e",
   "metadata": {},
   "outputs": [
    {
     "data": {
      "text/plain": [
       "array(['issue_d', 'loan_status', 'term', 'grade', 'sub_grade', 'verification_status', 'url',\n",
       "       'addr_state'], dtype='<U19')"
      ]
     },
     "execution_count": 13,
     "metadata": {},
     "output_type": "execute_result"
    }
   ],
   "source": [
    "headers_string"
   ]
  },
  {
   "cell_type": "code",
   "execution_count": 14,
   "id": "dd230591-dc90-4257-b245-658d4ba9f4ee",
   "metadata": {},
   "outputs": [
    {
     "data": {
      "text/plain": [
       "array(['id', 'loan_amnt', 'funded_amnt', 'int_rate', 'installment', 'total_pymnt'], dtype='<U19')"
      ]
     },
     "execution_count": 14,
     "metadata": {},
     "output_type": "execute_result"
    }
   ],
   "source": [
    "headers_numeric"
   ]
  },
  {
   "cell_type": "markdown",
   "id": "1db686a1-3b8f-4ad2-a459-cbf0df188858",
   "metadata": {},
   "source": [
    "### Creating checkpoints"
   ]
  },
  {
   "cell_type": "code",
   "execution_count": 15,
   "id": "b0452da6-ec53-4428-90ae-af02ad40f21b",
   "metadata": {},
   "outputs": [],
   "source": [
    "def checkpoint(file_name, checkpoint_header, checkpoint_data):\n",
    "    np.savez(file_name, header = checkpoint_header, data = checkpoint_data)\n",
    "    checkpoint_variable = np.load(file_name + \".npz\")\n",
    "    return(checkpoint_variable)"
   ]
  },
  {
   "cell_type": "code",
   "execution_count": 16,
   "id": "ffd69a48-7fa2-4669-acc2-551b19c2a5dc",
   "metadata": {},
   "outputs": [
    {
     "data": {
      "text/plain": [
       "array([['May-15', 'Current', '36 months', ..., 'Verified',\n",
       "        'https://www.lendingclub.com/browse/loanDetail.action?loan_id=48010226', 'CA'],\n",
       "       ['', 'Current', '36 months', ..., 'Source Verified',\n",
       "        'https://www.lendingclub.com/browse/loanDetail.action?loan_id=57693261', 'NY'],\n",
       "       ['Sep-15', 'Current', '36 months', ..., 'Verified',\n",
       "        'https://www.lendingclub.com/browse/loanDetail.action?loan_id=59432726', 'PA'],\n",
       "       ...,\n",
       "       ['Jun-15', 'Current', '36 months', ..., 'Source Verified',\n",
       "        'https://www.lendingclub.com/browse/loanDetail.action?loan_id=50415990', 'CA'],\n",
       "       ['Apr-15', 'Current', '36 months', ..., 'Source Verified',\n",
       "        'https://www.lendingclub.com/browse/loanDetail.action?loan_id=46154151', 'OH'],\n",
       "       ['Dec-15', 'Current', '36 months', ..., '',\n",
       "        'https://www.lendingclub.com/browse/loanDetail.action?loan_id=66055249', 'IL']],\n",
       "      dtype='<U69')"
      ]
     },
     "execution_count": 16,
     "metadata": {},
     "output_type": "execute_result"
    }
   ],
   "source": [
    "checkpoint_test = checkpoint('checkpoint-test', headers_string, data_string)\n",
    "checkpoint_test['data']"
   ]
  },
  {
   "cell_type": "markdown",
   "id": "2f43d708-65c0-4b34-97a1-6ae6162663d1",
   "metadata": {},
   "source": [
    "### Manipulating issue date"
   ]
  },
  {
   "cell_type": "code",
   "execution_count": 17,
   "id": "6d078ffa-6b83-472e-abf5-745c43e2f2b7",
   "metadata": {},
   "outputs": [
    {
     "data": {
      "text/plain": [
       "array(['issue_date', 'loan_status', 'term', 'grade', 'sub_grade', 'verification_status', 'url',\n",
       "       'addr_state'], dtype='<U19')"
      ]
     },
     "execution_count": 17,
     "metadata": {},
     "output_type": "execute_result"
    }
   ],
   "source": [
    "#changing the header name\n",
    "headers_string[0] = 'issue_date'\n",
    "headers_string"
   ]
  },
  {
   "cell_type": "code",
   "execution_count": 18,
   "id": "8cb0e06a-8f39-479a-aee3-5e32f1217934",
   "metadata": {},
   "outputs": [
    {
     "data": {
      "text/plain": [
       "array(['', 'Apr-15', 'Aug-15', 'Dec-15', 'Feb-15', 'Jan-15', 'Jul-15', 'Jun-15', 'Mar-15',\n",
       "       'May-15', 'Nov-15', 'Oct-15', 'Sep-15'], dtype='<U69')"
      ]
     },
     "execution_count": 18,
     "metadata": {},
     "output_type": "execute_result"
    }
   ],
   "source": [
    "np.unique(data_string[:,0])"
   ]
  },
  {
   "cell_type": "code",
   "execution_count": 19,
   "id": "85c63d57-d13b-46f1-a617-e4e43df4dcb7",
   "metadata": {},
   "outputs": [],
   "source": [
    "#removing the year and extracting months only\n",
    "data_string[:,0] = np.char.strip(data_string[:,0], '-15')"
   ]
  },
  {
   "cell_type": "code",
   "execution_count": 20,
   "id": "334c7203-63ec-432b-8234-d4e4b51ea6d0",
   "metadata": {},
   "outputs": [
    {
     "data": {
      "text/plain": [
       "array(['', 'Apr', 'Aug', 'Dec', 'Feb', 'Jan', 'Jul', 'Jun', 'Mar', 'May', 'Nov', 'Oct', 'Sep'],\n",
       "      dtype='<U69')"
      ]
     },
     "execution_count": 20,
     "metadata": {},
     "output_type": "execute_result"
    }
   ],
   "source": [
    "np.unique(data_string[:,0])"
   ]
  },
  {
   "cell_type": "code",
   "execution_count": 21,
   "id": "18fdf569-bd68-4f9c-8bba-55ebd134171a",
   "metadata": {},
   "outputs": [],
   "source": [
    "months = ['', 'Jan', 'Feb', 'Mar', 'Apr', 'May', 'Jun', 'Jul', 'Aug', 'Sep', 'Oct', 'Nov', 'Dec']"
   ]
  },
  {
   "cell_type": "code",
   "execution_count": 22,
   "id": "4fc8ef8d-3290-4587-8e53-ba523fda71c3",
   "metadata": {},
   "outputs": [],
   "source": [
    "#creating a for loop to change the month name to month code whereas empty cell will be talen as 0\n",
    "for i in range(13):\n",
    "    data_string[:,0] = np.where(data_string[:,0] == months[i],\n",
    "                                i,\n",
    "                                data_string[:,0])\n",
    "    "
   ]
  },
  {
   "cell_type": "code",
   "execution_count": 23,
   "id": "9fa13a04-3927-469b-8c0d-311d2332d7db",
   "metadata": {},
   "outputs": [
    {
     "data": {
      "text/plain": [
       "array(['0', '1', '10', '11', '12', '2', '3', '4', '5', '6', '7', '8', '9'], dtype='<U69')"
      ]
     },
     "execution_count": 23,
     "metadata": {},
     "output_type": "execute_result"
    }
   ],
   "source": [
    "np.unique(data_string[:,0])"
   ]
  },
  {
   "cell_type": "markdown",
   "id": "49ebf96f-2336-437d-9a4f-a37b6a9b6916",
   "metadata": {},
   "source": [
    "### Manipulating loan status"
   ]
  },
  {
   "cell_type": "code",
   "execution_count": 24,
   "id": "5b4971ef-61d0-4cc1-a00d-b2c2874201d6",
   "metadata": {},
   "outputs": [
    {
     "data": {
      "text/plain": [
       "array(['', 'Charged Off', 'Current', 'Default', 'Fully Paid', 'In Grace Period', 'Issued',\n",
       "       'Late (16-30 days)', 'Late (31-120 days)'], dtype='<U69')"
      ]
     },
     "execution_count": 24,
     "metadata": {},
     "output_type": "execute_result"
    }
   ],
   "source": [
    "np.unique(data_string[:,1])"
   ]
  },
  {
   "cell_type": "code",
   "execution_count": 25,
   "id": "3a85490c-e522-48c7-b948-dc63456d1b1c",
   "metadata": {},
   "outputs": [],
   "source": [
    "#defining the status of the loan term\n",
    "status_bad = ['', 'Charged Off', 'Default', 'Late']"
   ]
  },
  {
   "cell_type": "code",
   "execution_count": 26,
   "id": "3ceabbe8-e771-4cc3-9e65-cce8bcaa5fcd",
   "metadata": {},
   "outputs": [],
   "source": [
    "#assigning value of 0 to bad loan term including empty data and 1 to ood term\n",
    "data_string[:,1] = np.where(np.isin(data_string[:,1], status_bad), 0, 1)"
   ]
  },
  {
   "cell_type": "code",
   "execution_count": 27,
   "id": "33db55cc-b0ab-4f35-bc51-92f37a8d95cf",
   "metadata": {},
   "outputs": [
    {
     "data": {
      "text/plain": [
       "array(['0', '1'], dtype='<U69')"
      ]
     },
     "execution_count": 27,
     "metadata": {},
     "output_type": "execute_result"
    }
   ],
   "source": [
    "np.unique(data_string[:,1])"
   ]
  },
  {
   "cell_type": "markdown",
   "id": "37d76871-2c1d-45cb-92f0-baf3c59d08d2",
   "metadata": {},
   "source": [
    "### Manipulating loan term"
   ]
  },
  {
   "cell_type": "code",
   "execution_count": 28,
   "id": "ebf0f642-8aaf-4973-9b32-d5171320c663",
   "metadata": {},
   "outputs": [],
   "source": [
    "#changing the header name to make it more specific\n",
    "headers_string[2] = 'loan_term'"
   ]
  },
  {
   "cell_type": "code",
   "execution_count": 29,
   "id": "2e983938-b526-4af0-8cea-70d8bdf75ca2",
   "metadata": {},
   "outputs": [
    {
     "data": {
      "text/plain": [
       "array(['', '36 months', '60 months'], dtype='<U69')"
      ]
     },
     "execution_count": 29,
     "metadata": {},
     "output_type": "execute_result"
    }
   ],
   "source": [
    "np.unique(data_string[:,2])"
   ]
  },
  {
   "cell_type": "code",
   "execution_count": 30,
   "id": "aa4561c8-66d7-4529-b8e7-5f9974237964",
   "metadata": {},
   "outputs": [
    {
     "data": {
      "text/plain": [
       "array(['36', '36', '36', ..., '36', '36', '36'], dtype='<U69')"
      ]
     },
     "execution_count": 30,
     "metadata": {},
     "output_type": "execute_result"
    }
   ],
   "source": [
    "#stripping months from the loan_term to get a numeric value\n",
    "data_string[:,2] = np.char.strip(data_string[:,2], ' months')\n",
    "data_string[:,2]"
   ]
  },
  {
   "cell_type": "code",
   "execution_count": 31,
   "id": "54047435-10b3-4eeb-bd5a-24d5217de795",
   "metadata": {},
   "outputs": [
    {
     "data": {
      "text/plain": [
       "array(['36', '36', '36', ..., '36', '36', '36'], dtype='<U69')"
      ]
     },
     "execution_count": 31,
     "metadata": {},
     "output_type": "execute_result"
    }
   ],
   "source": [
    "data_string[:,2] = np.where(data_string[:,2] == '',\n",
    "                            '60',\n",
    "                            data_string[:,2])\n",
    "data_string[:,2]"
   ]
  },
  {
   "cell_type": "code",
   "execution_count": 32,
   "id": "2a588678-e510-4472-96a5-e2f677fbae05",
   "metadata": {},
   "outputs": [
    {
     "data": {
      "text/plain": [
       "array(['36', '60'], dtype='<U69')"
      ]
     },
     "execution_count": 32,
     "metadata": {},
     "output_type": "execute_result"
    }
   ],
   "source": [
    "np.unique(data_string[:,2])"
   ]
  },
  {
   "cell_type": "markdown",
   "id": "4d7a9625-17d5-4403-95a1-2c7a9c549115",
   "metadata": {},
   "source": [
    "### Identifying grade and sub grade"
   ]
  },
  {
   "cell_type": "code",
   "execution_count": 33,
   "id": "c7b31f18-4d74-4674-b34b-5e61750eb3f4",
   "metadata": {},
   "outputs": [
    {
     "data": {
      "text/plain": [
       "array(['', 'A', 'B', 'C', 'D', 'E', 'F', 'G'], dtype='<U69')"
      ]
     },
     "execution_count": 33,
     "metadata": {},
     "output_type": "execute_result"
    }
   ],
   "source": [
    "np.unique(data_string[:,3])"
   ]
  },
  {
   "cell_type": "code",
   "execution_count": 34,
   "id": "586cd567-ee1c-430a-bfa8-38775a0ee784",
   "metadata": {},
   "outputs": [
    {
     "data": {
      "text/plain": [
       "array(['', 'A1', 'A2', 'A3', 'A4', 'A5', 'B1', 'B2', 'B3', 'B4', 'B5', 'C1', 'C2', 'C3', 'C4',\n",
       "       'C5', 'D1', 'D2', 'D3', 'D4', 'D5', 'E1', 'E2', 'E3', 'E4', 'E5', 'F1', 'F2', 'F3', 'F4',\n",
       "       'F5', 'G1', 'G2', 'G3', 'G4', 'G5'], dtype='<U69')"
      ]
     },
     "execution_count": 34,
     "metadata": {},
     "output_type": "execute_result"
    }
   ],
   "source": [
    "np.unique(data_string[:,4])"
   ]
  },
  {
   "cell_type": "markdown",
   "id": "057a90d2-aa9a-428b-8180-6746576478b2",
   "metadata": {},
   "source": [
    "### Filling sub grade"
   ]
  },
  {
   "cell_type": "code",
   "execution_count": 35,
   "id": "cd0d310f-d846-4711-9c16-755a4bebec35",
   "metadata": {},
   "outputs": [],
   "source": [
    "for i in np.unique(data_string[:,3])[1:]:\n",
    "    data_string[:,4] = np.where((data_string[:,4] == '') & (data_string[:,3] == i),\n",
    "                                           i + '5',\n",
    "                                           data_string[:,4])"
   ]
  },
  {
   "cell_type": "code",
   "execution_count": 36,
   "id": "3b455c3b-7095-4045-a4d5-34f847e38f34",
   "metadata": {},
   "outputs": [
    {
     "data": {
      "text/plain": [
       "(array(['', 'A1', 'A2', 'A3', 'A4', 'A5', 'B1', 'B2', 'B3', 'B4', 'B5', 'C1', 'C2', 'C3', 'C4',\n",
       "        'C5', 'D1', 'D2', 'D3', 'D4', 'D5', 'E1', 'E2', 'E3', 'E4', 'E5', 'F1', 'F2', 'F3', 'F4',\n",
       "        'F5', 'G1', 'G2', 'G3', 'G4', 'G5'], dtype='<U69'),\n",
       " array([  9, 285, 278, 239, 323, 592, 509, 517, 530, 553, 633, 629, 567, 586, 564, 577, 391, 267,\n",
       "        250, 255, 288, 235, 162, 171, 139, 160,  94,  52,  34,  43,  24,  19,  10,   3,   7,   5],\n",
       "       dtype=int64))"
      ]
     },
     "execution_count": 36,
     "metadata": {},
     "output_type": "execute_result"
    }
   ],
   "source": [
    "np.unique(data_string[:,4], return_counts = True)"
   ]
  },
  {
   "cell_type": "code",
   "execution_count": 37,
   "id": "3d803490-906e-40d1-af84-f52d54160ce2",
   "metadata": {},
   "outputs": [],
   "source": [
    "data_string[:,4] = np.where(data_string[:,4] == '',\n",
    "                            'H1',\n",
    "                            data_string[:,4])"
   ]
  },
  {
   "cell_type": "code",
   "execution_count": 38,
   "id": "f9a89fe4-376e-4315-ad4f-01d28ca7b0b6",
   "metadata": {},
   "outputs": [
    {
     "data": {
      "text/plain": [
       "array(['A1', 'A2', 'A3', 'A4', 'A5', 'B1', 'B2', 'B3', 'B4', 'B5', 'C1', 'C2', 'C3', 'C4', 'C5',\n",
       "       'D1', 'D2', 'D3', 'D4', 'D5', 'E1', 'E2', 'E3', 'E4', 'E5', 'F1', 'F2', 'F3', 'F4', 'F5',\n",
       "       'G1', 'G2', 'G3', 'G4', 'G5', 'H1'], dtype='<U69')"
      ]
     },
     "execution_count": 38,
     "metadata": {},
     "output_type": "execute_result"
    }
   ],
   "source": [
    "np.unique(data_string[:,4])"
   ]
  },
  {
   "cell_type": "markdown",
   "id": "5e937faa-74db-4a76-a205-dbca28867330",
   "metadata": {},
   "source": [
    "### Removing grade"
   ]
  },
  {
   "cell_type": "code",
   "execution_count": 39,
   "id": "7c79529e-f349-4845-94f4-8f9c7bee8733",
   "metadata": {},
   "outputs": [],
   "source": [
    "data_string = np.delete(data_string, 3, axis = 1)"
   ]
  },
  {
   "cell_type": "code",
   "execution_count": 40,
   "id": "58665a87-2e8b-4a3d-b9a5-a453942e17d6",
   "metadata": {},
   "outputs": [
    {
     "data": {
      "text/plain": [
       "array(['C3', 'A5', 'B5', ..., 'A5', 'D2', 'A4'], dtype='<U69')"
      ]
     },
     "execution_count": 40,
     "metadata": {},
     "output_type": "execute_result"
    }
   ],
   "source": [
    "data_string[:,3]"
   ]
  },
  {
   "cell_type": "code",
   "execution_count": 41,
   "id": "25958a28-d6c9-44cb-a34d-0c67729aceb6",
   "metadata": {},
   "outputs": [],
   "source": [
    "headers_string = np.delete(headers_string, 3)"
   ]
  },
  {
   "cell_type": "code",
   "execution_count": 42,
   "id": "a663f41c-1397-4110-bc6f-17510b5e53c6",
   "metadata": {},
   "outputs": [
    {
     "data": {
      "text/plain": [
       "array(['issue_date', 'loan_status', 'loan_term', 'sub_grade', 'verification_status', 'url',\n",
       "       'addr_state'], dtype='<U19')"
      ]
     },
     "execution_count": 42,
     "metadata": {},
     "output_type": "execute_result"
    }
   ],
   "source": [
    "headers_string"
   ]
  },
  {
   "cell_type": "markdown",
   "id": "40709a18-9bc1-4118-9dea-893232e0c69d",
   "metadata": {},
   "source": [
    "### Converting sub grade"
   ]
  },
  {
   "cell_type": "code",
   "execution_count": 43,
   "id": "eda14fa2-ca73-4635-9e53-ad9a72e311b4",
   "metadata": {},
   "outputs": [
    {
     "data": {
      "text/plain": [
       "array(['A1', 'A2', 'A3', 'A4', 'A5', 'B1', 'B2', 'B3', 'B4', 'B5', 'C1', 'C2', 'C3', 'C4', 'C5',\n",
       "       'D1', 'D2', 'D3', 'D4', 'D5', 'E1', 'E2', 'E3', 'E4', 'E5', 'F1', 'F2', 'F3', 'F4', 'F5',\n",
       "       'G1', 'G2', 'G3', 'G4', 'G5', 'H1'], dtype='<U69')"
      ]
     },
     "execution_count": 43,
     "metadata": {},
     "output_type": "execute_result"
    }
   ],
   "source": [
    "np.unique(data_string[:,3])"
   ]
  },
  {
   "cell_type": "code",
   "execution_count": 44,
   "id": "8f408b3e-aac1-4a4f-aec6-367dc91f60e6",
   "metadata": {},
   "outputs": [],
   "source": [
    "keys = list(np.unique(data_string[:,3]))\n",
    "values = list(range(1, np.unique(data_string[:,3]).shape[0] + 1))\n",
    "dict_sub_grade = dict(zip(keys,values))"
   ]
  },
  {
   "cell_type": "code",
   "execution_count": 45,
   "id": "27ba131b-8dbf-4e52-a22d-d5081a5efcfc",
   "metadata": {},
   "outputs": [
    {
     "data": {
      "text/plain": [
       "{'A1': 1,\n",
       " 'A2': 2,\n",
       " 'A3': 3,\n",
       " 'A4': 4,\n",
       " 'A5': 5,\n",
       " 'B1': 6,\n",
       " 'B2': 7,\n",
       " 'B3': 8,\n",
       " 'B4': 9,\n",
       " 'B5': 10,\n",
       " 'C1': 11,\n",
       " 'C2': 12,\n",
       " 'C3': 13,\n",
       " 'C4': 14,\n",
       " 'C5': 15,\n",
       " 'D1': 16,\n",
       " 'D2': 17,\n",
       " 'D3': 18,\n",
       " 'D4': 19,\n",
       " 'D5': 20,\n",
       " 'E1': 21,\n",
       " 'E2': 22,\n",
       " 'E3': 23,\n",
       " 'E4': 24,\n",
       " 'E5': 25,\n",
       " 'F1': 26,\n",
       " 'F2': 27,\n",
       " 'F3': 28,\n",
       " 'F4': 29,\n",
       " 'F5': 30,\n",
       " 'G1': 31,\n",
       " 'G2': 32,\n",
       " 'G3': 33,\n",
       " 'G4': 34,\n",
       " 'G5': 35,\n",
       " 'H1': 36}"
      ]
     },
     "execution_count": 45,
     "metadata": {},
     "output_type": "execute_result"
    }
   ],
   "source": [
    "dict_sub_grade"
   ]
  },
  {
   "cell_type": "code",
   "execution_count": 46,
   "id": "70107a57-81ba-465c-9f2b-c395fc398ed9",
   "metadata": {},
   "outputs": [],
   "source": [
    "for i in np.unique(data_string[:,3]):\n",
    "    data_string[:,3] = np.where(data_string[:,3] == i,\n",
    "                                dict_sub_grade[i],\n",
    "                                data_string[:,3])"
   ]
  },
  {
   "cell_type": "code",
   "execution_count": 47,
   "id": "64a3e9a1-39a6-484a-8c5f-39de71ee72c2",
   "metadata": {},
   "outputs": [
    {
     "data": {
      "text/plain": [
       "array(['1', '10', '11', '12', '13', '14', '15', '16', '17', '18', '19', '2', '20', '21', '22',\n",
       "       '23', '24', '25', '26', '27', '28', '29', '3', '30', '31', '32', '33', '34', '35', '36',\n",
       "       '4', '5', '6', '7', '8', '9'], dtype='<U69')"
      ]
     },
     "execution_count": 47,
     "metadata": {},
     "output_type": "execute_result"
    }
   ],
   "source": [
    "np.unique(data_string[:,3])"
   ]
  },
  {
   "cell_type": "markdown",
   "id": "b571f734-fee2-4e73-a4bd-3227d44cf078",
   "metadata": {},
   "source": [
    "### Verification status"
   ]
  },
  {
   "cell_type": "code",
   "execution_count": 48,
   "id": "a8372e44-02ba-4a3c-9160-17a62edd7403",
   "metadata": {},
   "outputs": [
    {
     "data": {
      "text/plain": [
       "array(['issue_date', 'loan_status', 'loan_term', 'sub_grade', 'verification_status', 'url',\n",
       "       'addr_state'], dtype='<U19')"
      ]
     },
     "execution_count": 48,
     "metadata": {},
     "output_type": "execute_result"
    }
   ],
   "source": [
    "headers_string"
   ]
  },
  {
   "cell_type": "code",
   "execution_count": 49,
   "id": "cec48059-af02-4f80-98f5-160f336e3a7f",
   "metadata": {},
   "outputs": [
    {
     "data": {
      "text/plain": [
       "array(['', 'Not Verified', 'Source Verified', 'Verified'], dtype='<U69')"
      ]
     },
     "execution_count": 49,
     "metadata": {},
     "output_type": "execute_result"
    }
   ],
   "source": [
    "np.unique(data_string[:,4])"
   ]
  },
  {
   "cell_type": "code",
   "execution_count": 50,
   "id": "82bb6eb2-62e9-4482-8800-e5240ed5c52f",
   "metadata": {},
   "outputs": [],
   "source": [
    "data_string[:,4] = np.where((data_string[:,4] == '') | (data_string[:,4] == 'Not Verified'), 0, 1)"
   ]
  },
  {
   "cell_type": "code",
   "execution_count": 51,
   "id": "07c25b84-f0d5-4b1f-b5e6-a49091257f63",
   "metadata": {},
   "outputs": [
    {
     "data": {
      "text/plain": [
       "array(['0', '1'], dtype='<U69')"
      ]
     },
     "execution_count": 51,
     "metadata": {},
     "output_type": "execute_result"
    }
   ],
   "source": [
    "np.unique(data_string[:,4])"
   ]
  },
  {
   "cell_type": "markdown",
   "id": "bfecff8c-dbb1-45e9-b27f-28a85fc5072a",
   "metadata": {},
   "source": [
    "### URL"
   ]
  },
  {
   "cell_type": "code",
   "execution_count": 52,
   "id": "5fab90eb-43d9-4e79-80b1-67a08bb7258e",
   "metadata": {},
   "outputs": [
    {
     "data": {
      "text/plain": [
       "array(['https://www.lendingclub.com/browse/loanDetail.action?loan_id=48010226',\n",
       "       'https://www.lendingclub.com/browse/loanDetail.action?loan_id=57693261',\n",
       "       'https://www.lendingclub.com/browse/loanDetail.action?loan_id=59432726', ...,\n",
       "       'https://www.lendingclub.com/browse/loanDetail.action?loan_id=50415990',\n",
       "       'https://www.lendingclub.com/browse/loanDetail.action?loan_id=46154151',\n",
       "       'https://www.lendingclub.com/browse/loanDetail.action?loan_id=66055249'], dtype='<U69')"
      ]
     },
     "execution_count": 52,
     "metadata": {},
     "output_type": "execute_result"
    }
   ],
   "source": [
    "data_string[:,5]"
   ]
  },
  {
   "cell_type": "code",
   "execution_count": 53,
   "id": "a0e8b711-0374-4466-a811-e49c5955f5d5",
   "metadata": {},
   "outputs": [
    {
     "data": {
      "text/plain": [
       "array(['48010226', '57693261', '59432726', ..., '50415990', '46154151', '66055249'], dtype='<U69')"
      ]
     },
     "execution_count": 53,
     "metadata": {},
     "output_type": "execute_result"
    }
   ],
   "source": [
    "np.char.strip(data_string[:,5], 'https://www.lendingclub.com/browse/loanDetail.action?loan_id=')"
   ]
  },
  {
   "cell_type": "code",
   "execution_count": 54,
   "id": "b8148b6f-e081-4564-8d72-cba6ca9ab28b",
   "metadata": {},
   "outputs": [
    {
     "data": {
      "text/plain": [
       "array([48010226, 57693261, 59432726, ..., 50415990, 46154151, 66055249])"
      ]
     },
     "execution_count": 54,
     "metadata": {},
     "output_type": "execute_result"
    }
   ],
   "source": [
    "loan_id = np.char.strip(data_string[:,5], 'https://www.lendingclub.com/browse/loanDetail.action?loan_id=')\n",
    "loan_id.astype(dtype = int)"
   ]
  },
  {
   "cell_type": "code",
   "execution_count": 55,
   "id": "e474591b-06e5-446c-9541-d19b978fc65c",
   "metadata": {},
   "outputs": [
    {
     "data": {
      "text/plain": [
       "array([48010226, 57693261, 59432726, ..., 50415990, 46154151, 66055249])"
      ]
     },
     "execution_count": 55,
     "metadata": {},
     "output_type": "execute_result"
    }
   ],
   "source": [
    "data_numeric[:,0].astype(dtype = int)"
   ]
  },
  {
   "cell_type": "code",
   "execution_count": 56,
   "id": "77a5d86d-2f84-49d7-8c65-bf3d2a3578f9",
   "metadata": {},
   "outputs": [
    {
     "data": {
      "text/plain": [
       "True"
      ]
     },
     "execution_count": 56,
     "metadata": {},
     "output_type": "execute_result"
    }
   ],
   "source": [
    "np.array_equal(loan_id.astype(dtype = int), data_numeric[:,0].astype(dtype = int))"
   ]
  },
  {
   "cell_type": "code",
   "execution_count": 57,
   "id": "18705c19-bfb3-4c9f-8cdc-44613a2aa17e",
   "metadata": {},
   "outputs": [],
   "source": [
    "data_string = np.delete(data_string, 5, axis = 1)\n",
    "headers_string = np.delete(headers_string, 5)"
   ]
  },
  {
   "cell_type": "code",
   "execution_count": 58,
   "id": "16a9ea79-d097-4887-a711-fd46ee8c2a05",
   "metadata": {},
   "outputs": [
    {
     "data": {
      "text/plain": [
       "array(['CA', 'NY', 'PA', ..., 'CA', 'OH', 'IL'], dtype='<U69')"
      ]
     },
     "execution_count": 58,
     "metadata": {},
     "output_type": "execute_result"
    }
   ],
   "source": [
    "data_string[:,5]"
   ]
  },
  {
   "cell_type": "code",
   "execution_count": 59,
   "id": "fdcf7950-a03d-464e-b44f-e098fc29d3ac",
   "metadata": {},
   "outputs": [
    {
     "data": {
      "text/plain": [
       "array(['issue_date', 'loan_status', 'loan_term', 'sub_grade', 'verification_status', 'addr_state'],\n",
       "      dtype='<U19')"
      ]
     },
     "execution_count": 59,
     "metadata": {},
     "output_type": "execute_result"
    }
   ],
   "source": [
    "headers_string"
   ]
  },
  {
   "cell_type": "markdown",
   "id": "e1d4c068-e51b-4804-8129-d2873c264492",
   "metadata": {},
   "source": [
    "### State address"
   ]
  },
  {
   "cell_type": "code",
   "execution_count": 60,
   "id": "cecfb440-3d65-45fb-a7dd-a5f4e1da8787",
   "metadata": {},
   "outputs": [
    {
     "data": {
      "text/plain": [
       "array(['issue_date', 'loan_status', 'loan_term', 'sub_grade', 'verification_status',\n",
       "       'state_address'], dtype='<U19')"
      ]
     },
     "execution_count": 60,
     "metadata": {},
     "output_type": "execute_result"
    }
   ],
   "source": [
    "headers_string[5] = \"state_address\"\n",
    "headers_string"
   ]
  },
  {
   "cell_type": "code",
   "execution_count": 61,
   "id": "eaabd862-7d3c-439f-96dc-4a07f507b11c",
   "metadata": {},
   "outputs": [
    {
     "data": {
      "text/plain": [
       "(array(['CA', 'NY', 'TX', 'FL', '', 'IL', 'NJ', 'GA', 'PA', 'OH', 'MI', 'NC', 'VA', 'MD', 'AZ',\n",
       "        'WA', 'MA', 'CO', 'MO', 'MN', 'IN', 'WI', 'CT', 'TN', 'NV', 'AL', 'LA', 'OR', 'SC', 'KY',\n",
       "        'KS', 'OK', 'UT', 'AR', 'MS', 'NH', 'NM', 'WV', 'HI', 'RI', 'MT', 'DE', 'DC', 'WY', 'AK',\n",
       "        'NE', 'SD', 'VT', 'ND', 'ME'], dtype='<U69'),\n",
       " array([1336,  777,  758,  690,  500,  389,  341,  321,  320,  312,  267,  261,  242,  222,  220,\n",
       "         216,  210,  201,  160,  156,  152,  148,  143,  143,  130,  119,  116,  108,  107,   84,\n",
       "          84,   83,   74,   74,   61,   58,   57,   49,   44,   40,   28,   27,   27,   27,   26,\n",
       "          25,   24,   17,   16,   10], dtype=int64))"
      ]
     },
     "execution_count": 61,
     "metadata": {},
     "output_type": "execute_result"
    }
   ],
   "source": [
    "states_name, states_count = np.unique(data_string[:,5], return_counts = True)\n",
    "states_name_sorted = np.argsort(-states_count)\n",
    "states_name[states_name_sorted], states_count[states_name_sorted]"
   ]
  },
  {
   "cell_type": "code",
   "execution_count": 62,
   "id": "c305c925-da4c-4852-a6ee-21cf3ecdd9fa",
   "metadata": {},
   "outputs": [],
   "source": [
    "data_string[:,5] = np.where(data_string[:,5] == '',\n",
    "                            0,\n",
    "                            data_string[:,5])"
   ]
  },
  {
   "cell_type": "code",
   "execution_count": 63,
   "id": "2c82c72a-bf83-4729-be0c-554aeb16aa2e",
   "metadata": {},
   "outputs": [],
   "source": [
    "states_west = np.array(['WA', 'OR','CA','NV','ID','MT', 'WY','UT','CO', 'AZ','NM','HI','AK'])\n",
    "states_south = np.array(['TX','OK','AR','LA','MS','AL','TN','KY','FL','GA','SC','NC','VA','WV','MD','DE','DC'])\n",
    "states_midwest = np.array(['ND','SD','NE','KS','MN','IA','MO','WI','IL','IN','MI','OH'])\n",
    "states_east = np.array(['PA','NY','NJ','CT','MA','VT','NH','ME','RI'])"
   ]
  },
  {
   "cell_type": "code",
   "execution_count": 64,
   "id": "17ec12ac-cd5d-4fd3-b52f-26d974c40435",
   "metadata": {},
   "outputs": [],
   "source": [
    "data_string[:,5] = np.where(np.isin(data_string[:,5],states_west), 1, data_string[:,5])\n",
    "data_string[:,5] = np.where(np.isin(data_string[:,5],states_south), 2, data_string[:,5])\n",
    "data_string[:,5] = np.where(np.isin(data_string[:,5],states_midwest), 3, data_string[:,5])\n",
    "data_string[:,5] = np.where(np.isin(data_string[:,5],states_east), 4, data_string[:,5])"
   ]
  },
  {
   "cell_type": "code",
   "execution_count": 65,
   "id": "f2aae33d-7f45-4c24-825c-fd1bc365b722",
   "metadata": {},
   "outputs": [
    {
     "data": {
      "text/plain": [
       "array(['0', '1', '2', '3', '4'], dtype='<U69')"
      ]
     },
     "execution_count": 65,
     "metadata": {},
     "output_type": "execute_result"
    }
   ],
   "source": [
    "np.unique(data_string[:,5])"
   ]
  },
  {
   "cell_type": "markdown",
   "id": "7b7585f6-251f-4d67-9728-af95143a07e3",
   "metadata": {},
   "source": [
    "### Converting strings to integers"
   ]
  },
  {
   "cell_type": "code",
   "execution_count": 66,
   "id": "4a4289b0-6fac-4c12-81de-c50d9fc4159f",
   "metadata": {},
   "outputs": [
    {
     "data": {
      "text/plain": [
       "array([['5', '1', '36', '13', '1', '1'],\n",
       "       ['0', '1', '36', '5', '1', '4'],\n",
       "       ['9', '1', '36', '10', '1', '4'],\n",
       "       ...,\n",
       "       ['6', '1', '36', '5', '1', '1'],\n",
       "       ['4', '1', '36', '17', '1', '3'],\n",
       "       ['12', '1', '36', '4', '0', '3']], dtype='<U69')"
      ]
     },
     "execution_count": 66,
     "metadata": {},
     "output_type": "execute_result"
    }
   ],
   "source": [
    "data_string"
   ]
  },
  {
   "cell_type": "code",
   "execution_count": 67,
   "id": "2fc261df-b28e-4b38-8161-c94d660253bc",
   "metadata": {},
   "outputs": [],
   "source": [
    "data_string = data_string.astype(dtype = int)"
   ]
  },
  {
   "cell_type": "code",
   "execution_count": 68,
   "id": "40d541ad-c33b-4711-ae82-746b3f7c6349",
   "metadata": {},
   "outputs": [
    {
     "data": {
      "text/plain": [
       "array([[ 5,  1, 36, 13,  1,  1],\n",
       "       [ 0,  1, 36,  5,  1,  4],\n",
       "       [ 9,  1, 36, 10,  1,  4],\n",
       "       ...,\n",
       "       [ 6,  1, 36,  5,  1,  1],\n",
       "       [ 4,  1, 36, 17,  1,  3],\n",
       "       [12,  1, 36,  4,  0,  3]])"
      ]
     },
     "execution_count": 68,
     "metadata": {},
     "output_type": "execute_result"
    }
   ],
   "source": [
    "data_string"
   ]
  },
  {
   "cell_type": "markdown",
   "id": "7db97dad-67d1-45c0-ac5d-0b8deda855c9",
   "metadata": {},
   "source": [
    "### Checkpoint string"
   ]
  },
  {
   "cell_type": "code",
   "execution_count": 69,
   "id": "11ec1005-c931-4db2-9eef-4804219dd073",
   "metadata": {},
   "outputs": [],
   "source": [
    "checkpoint_string = checkpoint('Checkpoint-string', headers_string, data_string)"
   ]
  },
  {
   "cell_type": "code",
   "execution_count": 70,
   "id": "0764ba4e-0120-422f-91a6-1c8ff1930d33",
   "metadata": {},
   "outputs": [
    {
     "data": {
      "text/plain": [
       "array(['issue_date', 'loan_status', 'loan_term', 'sub_grade', 'verification_status',\n",
       "       'state_address'], dtype='<U19')"
      ]
     },
     "execution_count": 70,
     "metadata": {},
     "output_type": "execute_result"
    }
   ],
   "source": [
    "checkpoint_string['header']"
   ]
  },
  {
   "cell_type": "code",
   "execution_count": 71,
   "id": "d959040e-025a-44bc-8efb-2486f54905c7",
   "metadata": {},
   "outputs": [
    {
     "data": {
      "text/plain": [
       "array([[ 5,  1, 36, 13,  1,  1],\n",
       "       [ 0,  1, 36,  5,  1,  4],\n",
       "       [ 9,  1, 36, 10,  1,  4],\n",
       "       ...,\n",
       "       [ 6,  1, 36,  5,  1,  1],\n",
       "       [ 4,  1, 36, 17,  1,  3],\n",
       "       [12,  1, 36,  4,  0,  3]])"
      ]
     },
     "execution_count": 71,
     "metadata": {},
     "output_type": "execute_result"
    }
   ],
   "source": [
    "checkpoint_string['data']"
   ]
  },
  {
   "cell_type": "code",
   "execution_count": 72,
   "id": "2f3ab229-1a52-4c72-9588-eaa9c87ee14f",
   "metadata": {},
   "outputs": [
    {
     "data": {
      "text/plain": [
       "True"
      ]
     },
     "execution_count": 72,
     "metadata": {},
     "output_type": "execute_result"
    }
   ],
   "source": [
    "np.array_equal(data_string, checkpoint_string['data'])"
   ]
  },
  {
   "cell_type": "markdown",
   "id": "dac7a56f-8f0e-459c-b6d8-6adab43b2689",
   "metadata": {},
   "source": [
    "### substituting filler values"
   ]
  },
  {
   "cell_type": "code",
   "execution_count": 73,
   "id": "497c4b54-1453-4a8e-83ac-c2d975887d13",
   "metadata": {},
   "outputs": [
    {
     "data": {
      "text/plain": [
       "array(['id', 'loan_amnt', 'funded_amnt', 'int_rate', 'installment', 'total_pymnt'], dtype='<U19')"
      ]
     },
     "execution_count": 73,
     "metadata": {},
     "output_type": "execute_result"
    }
   ],
   "source": [
    "headers_numeric"
   ]
  },
  {
   "cell_type": "code",
   "execution_count": 74,
   "id": "684fd779-250f-473f-a283-3196f536f190",
   "metadata": {},
   "outputs": [
    {
     "data": {
      "text/plain": [
       "array([48010226., 57693261., 59432726., ..., 50415990., 46154151., 66055249.])"
      ]
     },
     "execution_count": 74,
     "metadata": {},
     "output_type": "execute_result"
    }
   ],
   "source": [
    "data_numeric[:,0]"
   ]
  },
  {
   "cell_type": "code",
   "execution_count": 75,
   "id": "d0baf694-f053-4559-aed0-0636441da844",
   "metadata": {},
   "outputs": [
    {
     "data": {
      "text/plain": [
       "68616520.0"
      ]
     },
     "execution_count": 75,
     "metadata": {},
     "output_type": "execute_result"
    }
   ],
   "source": [
    "temp_fill"
   ]
  },
  {
   "cell_type": "code",
   "execution_count": 76,
   "id": "ac7c6c75-8d47-4093-a0f3-5eca3103467e",
   "metadata": {},
   "outputs": [
    {
     "data": {
      "text/plain": [
       "0"
      ]
     },
     "execution_count": 76,
     "metadata": {},
     "output_type": "execute_result"
    }
   ],
   "source": [
    "np.isin(data_numeric[:,0], temp_fill).sum()"
   ]
  },
  {
   "cell_type": "markdown",
   "id": "40d5b6b6-6cd8-45ca-b435-17e7a0875035",
   "metadata": {},
   "source": [
    "### Funded amount"
   ]
  },
  {
   "cell_type": "code",
   "execution_count": 77,
   "id": "5cc60fd0-0db8-4b56-b05d-9c711d109393",
   "metadata": {},
   "outputs": [
    {
     "data": {
      "text/plain": [
       "array([[48010226.  ,    35000.  ,    35000.  ,       13.33,     1184.86,     9452.96],\n",
       "       [57693261.  ,    30000.  ,    30000.  , 68616520.  ,      938.57,     4679.7 ],\n",
       "       [59432726.  ,    15000.  ,    15000.  , 68616520.  ,      494.86,     1969.83],\n",
       "       ...,\n",
       "       [50415990.  ,    10000.  ,    10000.  , 68616520.  , 68616520.  ,     2185.64],\n",
       "       [46154151.  , 68616520.  ,    10000.  ,       16.55,      354.3 ,     3199.4 ],\n",
       "       [66055249.  ,    10000.  ,    10000.  , 68616520.  ,      309.97,      301.9 ]])"
      ]
     },
     "execution_count": 77,
     "metadata": {},
     "output_type": "execute_result"
    }
   ],
   "source": [
    "data_numeric"
   ]
  },
  {
   "cell_type": "code",
   "execution_count": 78,
   "id": "77ff9dcc-340e-4ce5-8f48-64749891c54c",
   "metadata": {},
   "outputs": [
    {
     "data": {
      "text/plain": [
       "array([[  373332.  ,         nan,     1000.  ,         nan,     1000.  ,         nan,        6.  ,\n",
       "              31.42,         nan,         nan,         nan,         nan,         nan,        0.  ],\n",
       "       [54015809.19,         nan,    15273.46,         nan,    15311.04,         nan,       16.62,\n",
       "             440.92,         nan,         nan,         nan,         nan,         nan,     3143.85],\n",
       "       [68616519.  ,         nan,    35000.  ,         nan,    35000.  ,         nan,       28.99,\n",
       "            1372.97,         nan,         nan,         nan,         nan,         nan,    41913.62]])"
      ]
     },
     "execution_count": 78,
     "metadata": {},
     "output_type": "execute_result"
    }
   ],
   "source": [
    "temporary_stats"
   ]
  },
  {
   "cell_type": "code",
   "execution_count": 79,
   "id": "78194e49-317f-427e-a1f7-b9070179781b",
   "metadata": {},
   "outputs": [],
   "source": [
    "#substituting the temporary fill with the minimum amount\n",
    "data_numeric[:,2] = np.where(data_numeric[:,2] == temp_fill,\n",
    "                             temporary_stats[0, columns_numeric[2]],\n",
    "                             data_numeric[:,2])"
   ]
  },
  {
   "cell_type": "code",
   "execution_count": 80,
   "id": "f7a2382a-c6de-44d8-9b1f-c975de304d5d",
   "metadata": {},
   "outputs": [
    {
     "data": {
      "text/plain": [
       "array([35000., 30000., 15000., ..., 10000., 10000., 10000.])"
      ]
     },
     "execution_count": 80,
     "metadata": {},
     "output_type": "execute_result"
    }
   ],
   "source": [
    "data_numeric[:,2]"
   ]
  },
  {
   "cell_type": "markdown",
   "id": "fc1eb12a-69b1-48ad-809e-fc8763038bc0",
   "metadata": {},
   "source": [
    "### Loan amount, Interest Rate, Installment and Total Payment"
   ]
  },
  {
   "cell_type": "code",
   "execution_count": 81,
   "id": "367eed95-b1ed-46e8-af30-51df134b05fc",
   "metadata": {},
   "outputs": [
    {
     "data": {
      "text/plain": [
       "array(['id', 'loan_amnt', 'funded_amnt', 'int_rate', 'installment', 'total_pymnt'], dtype='<U19')"
      ]
     },
     "execution_count": 81,
     "metadata": {},
     "output_type": "execute_result"
    }
   ],
   "source": [
    "headers_numeric"
   ]
  },
  {
   "cell_type": "code",
   "execution_count": 82,
   "id": "9a2bf524-3ec8-4414-ad18-007f66ff5564",
   "metadata": {},
   "outputs": [],
   "source": [
    "#substituting the temporary fill with the maximum value\n",
    "for i in [1, 3, 4, 5]:\n",
    "    data_numeric[:,i] = np.where(data_numeric[:,i] == temp_fill,\n",
    "                             temporary_stats[2, columns_numeric[i]],\n",
    "                             data_numeric[:,i])"
   ]
  },
  {
   "cell_type": "code",
   "execution_count": 83,
   "id": "936c5501-9762-490f-a0ec-defc73bee72e",
   "metadata": {},
   "outputs": [
    {
     "data": {
      "text/plain": [
       "array([[48010226.  ,    35000.  ,    35000.  ,       13.33,     1184.86,     9452.96],\n",
       "       [57693261.  ,    30000.  ,    30000.  ,       28.99,      938.57,     4679.7 ],\n",
       "       [59432726.  ,    15000.  ,    15000.  ,       28.99,      494.86,     1969.83],\n",
       "       ...,\n",
       "       [50415990.  ,    10000.  ,    10000.  ,       28.99,     1372.97,     2185.64],\n",
       "       [46154151.  ,    35000.  ,    10000.  ,       16.55,      354.3 ,     3199.4 ],\n",
       "       [66055249.  ,    10000.  ,    10000.  ,       28.99,      309.97,      301.9 ]])"
      ]
     },
     "execution_count": 83,
     "metadata": {},
     "output_type": "execute_result"
    }
   ],
   "source": [
    "data_numeric"
   ]
  },
  {
   "cell_type": "code",
   "execution_count": 84,
   "id": "2b87c1d7-75ee-415c-af3c-c59130e9f9bc",
   "metadata": {},
   "outputs": [
    {
     "data": {
      "text/plain": [
       "1372.97"
      ]
     },
     "execution_count": 84,
     "metadata": {},
     "output_type": "execute_result"
    }
   ],
   "source": [
    "temporary_stats[2, columns_numeric[4]]"
   ]
  },
  {
   "cell_type": "markdown",
   "id": "ed140e62-8ad0-4415-852a-a7340b651b70",
   "metadata": {},
   "source": [
    "### Exchange rate Euro to Usd"
   ]
  },
  {
   "cell_type": "code",
   "execution_count": 85,
   "id": "db9db25e-a621-42a2-8e90-02d0f3bceb92",
   "metadata": {},
   "outputs": [
    {
     "data": {
      "text/plain": [
       "array([1.13, 1.12, 1.08, 1.11, 1.1 , 1.12, 1.09, 1.13, 1.13, 1.1 , 1.06, 1.09])"
      ]
     },
     "execution_count": 85,
     "metadata": {},
     "output_type": "execute_result"
    }
   ],
   "source": [
    "EUR_USD = np.genfromtxt(\"EUR-USD.csv\", delimiter = \",\", autostrip = True, usecols = 3, skip_header=1)\n",
    "EUR_USD"
   ]
  },
  {
   "cell_type": "code",
   "execution_count": 86,
   "id": "9e2da25c-c46f-40e4-b1b8-f6f19c4eb9d8",
   "metadata": {},
   "outputs": [
    {
     "data": {
      "text/plain": [
       "array([ 5,  0,  9, ...,  6,  4, 12])"
      ]
     },
     "execution_count": 86,
     "metadata": {},
     "output_type": "execute_result"
    }
   ],
   "source": [
    "data_string[:,0]"
   ]
  },
  {
   "cell_type": "code",
   "execution_count": 87,
   "id": "77521bb9-35f4-4b14-b96e-1b3c7669b19f",
   "metadata": {},
   "outputs": [
    {
     "data": {
      "text/plain": [
       "array([1.1 , 1.11, 1.13, ..., 1.12, 1.11, 1.09])"
      ]
     },
     "execution_count": 87,
     "metadata": {},
     "output_type": "execute_result"
    }
   ],
   "source": [
    "exchange_rate = data_string[:,0]\n",
    "\n",
    "for i in range(1,13):\n",
    "    exchange_rate = np.where(exchange_rate == i,\n",
    "                             EUR_USD[i-1],\n",
    "                             exchange_rate)\n",
    "\n",
    "exchange_rate = np.where(exchange_rate == 0,\n",
    "                         np.mean(EUR_USD),\n",
    "                         exchange_rate)\n",
    "\n",
    "exchange_rate"
   ]
  },
  {
   "cell_type": "code",
   "execution_count": 88,
   "id": "c2a647d0-8338-42c0-86c9-8dc59d23c739",
   "metadata": {},
   "outputs": [
    {
     "data": {
      "text/plain": [
       "(10000,)"
      ]
     },
     "execution_count": 88,
     "metadata": {},
     "output_type": "execute_result"
    }
   ],
   "source": [
    "exchange_rate.shape"
   ]
  },
  {
   "cell_type": "code",
   "execution_count": 89,
   "id": "44a5b083-c2d7-4d0d-9e95-13e06ecfed93",
   "metadata": {},
   "outputs": [
    {
     "data": {
      "text/plain": [
       "(10000, 6)"
      ]
     },
     "execution_count": 89,
     "metadata": {},
     "output_type": "execute_result"
    }
   ],
   "source": [
    "data_string.shape"
   ]
  },
  {
   "cell_type": "code",
   "execution_count": 90,
   "id": "6cf5956f-f5f2-42c2-9753-0ad38e1ceba6",
   "metadata": {},
   "outputs": [],
   "source": [
    "exchange_rate = np.reshape(exchange_rate, (10000,1))"
   ]
  },
  {
   "cell_type": "code",
   "execution_count": 91,
   "id": "8ed7eb65-4ed2-4f5b-a3b3-1c8b55343afc",
   "metadata": {},
   "outputs": [],
   "source": [
    "data_numeric = np.hstack((data_numeric, exchange_rate))"
   ]
  },
  {
   "cell_type": "code",
   "execution_count": 92,
   "id": "c16afb64-db34-4255-8ac7-6005534583be",
   "metadata": {},
   "outputs": [
    {
     "data": {
      "text/plain": [
       "array([[48010226.  ,    35000.  ,    35000.  , ...,     1184.86,     9452.96,        1.1 ],\n",
       "       [57693261.  ,    30000.  ,    30000.  , ...,      938.57,     4679.7 ,        1.11],\n",
       "       [59432726.  ,    15000.  ,    15000.  , ...,      494.86,     1969.83,        1.13],\n",
       "       ...,\n",
       "       [50415990.  ,    10000.  ,    10000.  , ...,     1372.97,     2185.64,        1.12],\n",
       "       [46154151.  ,    35000.  ,    10000.  , ...,      354.3 ,     3199.4 ,        1.11],\n",
       "       [66055249.  ,    10000.  ,    10000.  , ...,      309.97,      301.9 ,        1.09]])"
      ]
     },
     "execution_count": 92,
     "metadata": {},
     "output_type": "execute_result"
    }
   ],
   "source": [
    "data_numeric"
   ]
  },
  {
   "cell_type": "code",
   "execution_count": 93,
   "id": "2791fada-8b8a-467b-8a0c-d396fe27e51a",
   "metadata": {},
   "outputs": [],
   "source": [
    "headers_numeric = np.concatenate((headers_numeric, np.array([\"exchange_rate\"])))"
   ]
  },
  {
   "cell_type": "code",
   "execution_count": 94,
   "id": "7cc91f6d-51c5-4018-a100-80fadd22c255",
   "metadata": {},
   "outputs": [
    {
     "data": {
      "text/plain": [
       "array(['id', 'loan_amnt', 'funded_amnt', 'int_rate', 'installment', 'total_pymnt', 'exchange_rate'],\n",
       "      dtype='<U19')"
      ]
     },
     "execution_count": 94,
     "metadata": {},
     "output_type": "execute_result"
    }
   ],
   "source": [
    "headers_numeric"
   ]
  },
  {
   "cell_type": "markdown",
   "id": "0101f0e3-db5f-49a9-bf0e-533e4749a52e",
   "metadata": {},
   "source": [
    "### From USD to Euro"
   ]
  },
  {
   "cell_type": "code",
   "execution_count": 95,
   "id": "f08290a3-fc05-4fe8-88e4-36d98458f6c0",
   "metadata": {},
   "outputs": [
    {
     "data": {
      "text/plain": [
       "array(['id', 'loan_amnt', 'funded_amnt', 'int_rate', 'installment', 'total_pymnt', 'exchange_rate'],\n",
       "      dtype='<U19')"
      ]
     },
     "execution_count": 95,
     "metadata": {},
     "output_type": "execute_result"
    }
   ],
   "source": [
    "headers_numeric"
   ]
  },
  {
   "cell_type": "code",
   "execution_count": 96,
   "id": "c6d228ac-9b0c-4104-bb76-79c5e29b349b",
   "metadata": {},
   "outputs": [
    {
     "data": {
      "text/plain": [
       "array([1.1 , 1.11, 1.13, ..., 1.12, 1.11, 1.09])"
      ]
     },
     "execution_count": 96,
     "metadata": {},
     "output_type": "execute_result"
    }
   ],
   "source": [
    "data_numeric[:,6]"
   ]
  },
  {
   "cell_type": "code",
   "execution_count": 97,
   "id": "ce7429c8-9b10-4d75-9c87-069429ba9838",
   "metadata": {},
   "outputs": [],
   "source": [
    "columns_usd = np.array([1, 2, 4 ,5])"
   ]
  },
  {
   "cell_type": "code",
   "execution_count": 98,
   "id": "4ec9c128-4c4e-4552-a2ea-451bae72201b",
   "metadata": {},
   "outputs": [],
   "source": [
    "for i in columns_usd:\n",
    "    data_numeric = np.hstack((data_numeric, np.reshape(data_numeric[:,i] / data_numeric[:,6], (10000,1))))"
   ]
  },
  {
   "cell_type": "code",
   "execution_count": 99,
   "id": "155c6344-57d8-40d7-bc85-b31e19446f68",
   "metadata": {},
   "outputs": [
    {
     "data": {
      "text/plain": [
       "(10000, 11)"
      ]
     },
     "execution_count": 99,
     "metadata": {},
     "output_type": "execute_result"
    }
   ],
   "source": [
    "data_numeric.shape"
   ]
  },
  {
   "cell_type": "code",
   "execution_count": 100,
   "id": "eb7e53d4-3980-424b-8f30-3018431b2abf",
   "metadata": {},
   "outputs": [
    {
     "data": {
      "text/plain": [
       "array([[48010226.  ,    35000.  ,    35000.  , ...,    31933.3 ,     1081.04,     8624.69],\n",
       "       [57693261.  ,    30000.  ,    30000.  , ...,    27132.46,      848.86,     4232.39],\n",
       "       [59432726.  ,    15000.  ,    15000.  , ...,    13326.3 ,      439.64,     1750.04],\n",
       "       ...,\n",
       "       [50415990.  ,    10000.  ,    10000.  , ...,     8910.3 ,     1223.36,     1947.47],\n",
       "       [46154151.  ,    35000.  ,    10000.  , ...,     8997.4 ,      318.78,     2878.63],\n",
       "       [66055249.  ,    10000.  ,    10000.  , ...,     9145.8 ,      283.49,      276.11]])"
      ]
     },
     "execution_count": 100,
     "metadata": {},
     "output_type": "execute_result"
    }
   ],
   "source": [
    "data_numeric"
   ]
  },
  {
   "cell_type": "markdown",
   "id": "49c84913-13b2-45aa-92f8-a6ebe4c862a8",
   "metadata": {},
   "source": [
    "#### Adding header names"
   ]
  },
  {
   "cell_type": "code",
   "execution_count": 101,
   "id": "33f079b9-dbb8-4b7a-9d94-bdfdcde14b51",
   "metadata": {},
   "outputs": [],
   "source": [
    "additional_headers = np.array([column_name + '_EUR' for column_name in headers_numeric[columns_usd]])"
   ]
  },
  {
   "cell_type": "code",
   "execution_count": 102,
   "id": "fed71466-3dce-4448-bad4-69d709075d62",
   "metadata": {},
   "outputs": [
    {
     "data": {
      "text/plain": [
       "array(['loan_amnt_EUR', 'funded_amnt_EUR', 'installment_EUR', 'total_pymnt_EUR'], dtype='<U15')"
      ]
     },
     "execution_count": 102,
     "metadata": {},
     "output_type": "execute_result"
    }
   ],
   "source": [
    "additional_headers"
   ]
  },
  {
   "cell_type": "code",
   "execution_count": 103,
   "id": "57e26252-ba13-4e89-96c5-0f2bb533aa7c",
   "metadata": {},
   "outputs": [],
   "source": [
    "headers_numeric = np.concatenate((headers_numeric, additional_headers))"
   ]
  },
  {
   "cell_type": "code",
   "execution_count": 104,
   "id": "f2cb8516-13bf-4f51-9350-3ed7ae5ec558",
   "metadata": {},
   "outputs": [
    {
     "data": {
      "text/plain": [
       "array(['id', 'loan_amnt', 'funded_amnt', 'int_rate', 'installment', 'total_pymnt', 'exchange_rate',\n",
       "       'loan_amnt_EUR', 'funded_amnt_EUR', 'installment_EUR', 'total_pymnt_EUR'], dtype='<U19')"
      ]
     },
     "execution_count": 104,
     "metadata": {},
     "output_type": "execute_result"
    }
   ],
   "source": [
    "headers_numeric"
   ]
  },
  {
   "cell_type": "code",
   "execution_count": 105,
   "id": "969aece8-9882-4998-9948-30a2a88fce22",
   "metadata": {},
   "outputs": [],
   "source": [
    "headers_numeric[columns_usd] = np.array([column_name + '_USD' for column_name in headers_numeric[columns_usd]])"
   ]
  },
  {
   "cell_type": "code",
   "execution_count": 106,
   "id": "5737d989-df3e-47f5-a71f-dbac0dbc1d0e",
   "metadata": {},
   "outputs": [
    {
     "data": {
      "text/plain": [
       "array(['id', 'loan_amnt_USD', 'funded_amnt_USD', 'int_rate', 'installment_USD', 'total_pymnt_USD',\n",
       "       'exchange_rate', 'loan_amnt_EUR', 'funded_amnt_EUR', 'installment_EUR', 'total_pymnt_EUR'],\n",
       "      dtype='<U19')"
      ]
     },
     "execution_count": 106,
     "metadata": {},
     "output_type": "execute_result"
    }
   ],
   "source": [
    "headers_numeric"
   ]
  },
  {
   "cell_type": "code",
   "execution_count": 107,
   "id": "621f2bed-239c-4e00-9303-5da9776d2b18",
   "metadata": {},
   "outputs": [],
   "source": [
    "columns_index_order = [0,1,7,2,8,3,4,9,5,10,6]"
   ]
  },
  {
   "cell_type": "code",
   "execution_count": 108,
   "id": "a552a6f4-cf77-4fe8-9165-b5b684fdd2c8",
   "metadata": {},
   "outputs": [],
   "source": [
    "headers_numeric = headers_numeric[columns_index_order]"
   ]
  },
  {
   "cell_type": "code",
   "execution_count": 109,
   "id": "31ae85af-96ae-4939-a545-669e916cfc82",
   "metadata": {},
   "outputs": [
    {
     "data": {
      "text/plain": [
       "array(['id', 'loan_amnt_USD', 'loan_amnt_EUR', 'funded_amnt_USD', 'funded_amnt_EUR', 'int_rate',\n",
       "       'installment_USD', 'installment_EUR', 'total_pymnt_USD', 'total_pymnt_EUR', 'exchange_rate'],\n",
       "      dtype='<U19')"
      ]
     },
     "execution_count": 109,
     "metadata": {},
     "output_type": "execute_result"
    }
   ],
   "source": [
    "headers_numeric"
   ]
  },
  {
   "cell_type": "code",
   "execution_count": 110,
   "id": "7ae55bf7-6a16-4970-b051-c8c31b430366",
   "metadata": {},
   "outputs": [],
   "source": [
    "data_numeric = data_numeric[:,columns_index_order]"
   ]
  },
  {
   "cell_type": "code",
   "execution_count": 111,
   "id": "0a50289e-547d-464f-911c-97dd3e80a15c",
   "metadata": {},
   "outputs": [
    {
     "data": {
      "text/plain": [
       "array([[48010226.  ,    35000.  ,    31933.3 , ...,     9452.96,     8624.69,        1.1 ],\n",
       "       [57693261.  ,    30000.  ,    27132.46, ...,     4679.7 ,     4232.39,        1.11],\n",
       "       [59432726.  ,    15000.  ,    13326.3 , ...,     1969.83,     1750.04,        1.13],\n",
       "       ...,\n",
       "       [50415990.  ,    10000.  ,     8910.3 , ...,     2185.64,     1947.47,        1.12],\n",
       "       [46154151.  ,    35000.  ,    31490.9 , ...,     3199.4 ,     2878.63,        1.11],\n",
       "       [66055249.  ,    10000.  ,     9145.8 , ...,      301.9 ,      276.11,        1.09]])"
      ]
     },
     "execution_count": 111,
     "metadata": {},
     "output_type": "execute_result"
    }
   ],
   "source": [
    "data_numeric"
   ]
  },
  {
   "cell_type": "markdown",
   "id": "7fc9df40-cc97-4b64-af2d-2801605d2e31",
   "metadata": {},
   "source": [
    "### Interest rate"
   ]
  },
  {
   "cell_type": "code",
   "execution_count": 112,
   "id": "4b26b797-278d-4b71-ad2d-286002a30e0b",
   "metadata": {},
   "outputs": [
    {
     "data": {
      "text/plain": [
       "array(['id', 'loan_amnt_USD', 'loan_amnt_EUR', 'funded_amnt_USD', 'funded_amnt_EUR', 'int_rate',\n",
       "       'installment_USD', 'installment_EUR', 'total_pymnt_USD', 'total_pymnt_EUR', 'exchange_rate'],\n",
       "      dtype='<U19')"
      ]
     },
     "execution_count": 112,
     "metadata": {},
     "output_type": "execute_result"
    }
   ],
   "source": [
    "headers_numeric"
   ]
  },
  {
   "cell_type": "code",
   "execution_count": 113,
   "id": "b8de73e4-371e-445a-b9d4-bab4c8294452",
   "metadata": {},
   "outputs": [
    {
     "data": {
      "text/plain": [
       "array([13.33, 28.99, 28.99, ..., 28.99, 16.55, 28.99])"
      ]
     },
     "execution_count": 113,
     "metadata": {},
     "output_type": "execute_result"
    }
   ],
   "source": [
    "data_numeric[:,5]"
   ]
  },
  {
   "cell_type": "code",
   "execution_count": 114,
   "id": "fadadd31-a8b2-4067-993a-e240fc7af0c3",
   "metadata": {},
   "outputs": [],
   "source": [
    "data_numeric[:,5] = data_numeric[:,5]/100"
   ]
  },
  {
   "cell_type": "code",
   "execution_count": 115,
   "id": "34c514dd-d812-4d60-8aea-b7995e02a19b",
   "metadata": {},
   "outputs": [
    {
     "data": {
      "text/plain": [
       "array([0.13, 0.29, 0.29, ..., 0.29, 0.17, 0.29])"
      ]
     },
     "execution_count": 115,
     "metadata": {},
     "output_type": "execute_result"
    }
   ],
   "source": [
    "data_numeric[:,5]"
   ]
  },
  {
   "cell_type": "markdown",
   "id": "833c87a4-b4de-4c92-a347-e578faf54616",
   "metadata": {},
   "source": [
    "### Checkpoint numeric"
   ]
  },
  {
   "cell_type": "code",
   "execution_count": 116,
   "id": "cc642884-de36-426d-8d6c-5339b99a54e9",
   "metadata": {},
   "outputs": [],
   "source": [
    "checkpoint_numeric = checkpoint(\"Checkpoint-Numeric\", headers_numeric, data_numeric)"
   ]
  },
  {
   "cell_type": "code",
   "execution_count": 117,
   "id": "3306eac9-a393-4993-a926-1d349f1a463d",
   "metadata": {},
   "outputs": [
    {
     "data": {
      "text/plain": [
       "array(['id', 'loan_amnt_USD', 'loan_amnt_EUR', 'funded_amnt_USD', 'funded_amnt_EUR', 'int_rate',\n",
       "       'installment_USD', 'installment_EUR', 'total_pymnt_USD', 'total_pymnt_EUR', 'exchange_rate'],\n",
       "      dtype='<U19')"
      ]
     },
     "execution_count": 117,
     "metadata": {},
     "output_type": "execute_result"
    }
   ],
   "source": [
    "checkpoint_numeric['header']"
   ]
  },
  {
   "cell_type": "code",
   "execution_count": 118,
   "id": "edd7630d-c14c-41f3-a7ba-e36a7bd1c3cd",
   "metadata": {},
   "outputs": [
    {
     "data": {
      "text/plain": [
       "array([[48010226.  ,    35000.  ,    31933.3 , ...,     9452.96,     8624.69,        1.1 ],\n",
       "       [57693261.  ,    30000.  ,    27132.46, ...,     4679.7 ,     4232.39,        1.11],\n",
       "       [59432726.  ,    15000.  ,    13326.3 , ...,     1969.83,     1750.04,        1.13],\n",
       "       ...,\n",
       "       [50415990.  ,    10000.  ,     8910.3 , ...,     2185.64,     1947.47,        1.12],\n",
       "       [46154151.  ,    35000.  ,    31490.9 , ...,     3199.4 ,     2878.63,        1.11],\n",
       "       [66055249.  ,    10000.  ,     9145.8 , ...,      301.9 ,      276.11,        1.09]])"
      ]
     },
     "execution_count": 118,
     "metadata": {},
     "output_type": "execute_result"
    }
   ],
   "source": [
    "checkpoint_numeric['data']"
   ]
  },
  {
   "cell_type": "code",
   "execution_count": 119,
   "id": "7fdbe530-d58d-4180-9a64-6c3c9fb15fbc",
   "metadata": {},
   "outputs": [
    {
     "data": {
      "text/plain": [
       "True"
      ]
     },
     "execution_count": 119,
     "metadata": {},
     "output_type": "execute_result"
    }
   ],
   "source": [
    "np.array_equal(checkpoint_numeric['data'], data_numeric)"
   ]
  },
  {
   "cell_type": "markdown",
   "id": "135562f1-bdb3-4b24-b1b7-986b6f8ca524",
   "metadata": {},
   "source": [
    "### Combining the datasets"
   ]
  },
  {
   "cell_type": "code",
   "execution_count": 120,
   "id": "4ff48546-17ac-47c2-9abb-064409b7ef73",
   "metadata": {},
   "outputs": [
    {
     "data": {
      "text/plain": [
       "(10000, 6)"
      ]
     },
     "execution_count": 120,
     "metadata": {},
     "output_type": "execute_result"
    }
   ],
   "source": [
    "checkpoint_string['data'].shape"
   ]
  },
  {
   "cell_type": "code",
   "execution_count": 121,
   "id": "49445cb8-40c8-4141-aa8a-b45d94a0e9fe",
   "metadata": {},
   "outputs": [
    {
     "data": {
      "text/plain": [
       "(10000, 11)"
      ]
     },
     "execution_count": 121,
     "metadata": {},
     "output_type": "execute_result"
    }
   ],
   "source": [
    "checkpoint_numeric['data'].shape"
   ]
  },
  {
   "cell_type": "code",
   "execution_count": 122,
   "id": "164d16ff-8d44-4d1e-9105-9fdc71b2d121",
   "metadata": {},
   "outputs": [],
   "source": [
    "loan_data = np.hstack((checkpoint_numeric['data'],checkpoint_string['data']))"
   ]
  },
  {
   "cell_type": "code",
   "execution_count": 123,
   "id": "83049b4c-9ddc-48f9-907c-b122cfc358ac",
   "metadata": {},
   "outputs": [
    {
     "data": {
      "text/plain": [
       "array(['issue_date', 'loan_status', 'loan_term', 'sub_grade', 'verification_status',\n",
       "       'state_address'], dtype='<U19')"
      ]
     },
     "execution_count": 123,
     "metadata": {},
     "output_type": "execute_result"
    }
   ],
   "source": [
    "checkpoint_string['header']"
   ]
  },
  {
   "cell_type": "code",
   "execution_count": 124,
   "id": "d22a39a4-be71-4320-b9a5-a7c6ce80fd06",
   "metadata": {},
   "outputs": [
    {
     "data": {
      "text/plain": [
       "array(['id', 'loan_amnt_USD', 'loan_amnt_EUR', 'funded_amnt_USD', 'funded_amnt_EUR', 'int_rate',\n",
       "       'installment_USD', 'installment_EUR', 'total_pymnt_USD', 'total_pymnt_EUR', 'exchange_rate'],\n",
       "      dtype='<U19')"
      ]
     },
     "execution_count": 124,
     "metadata": {},
     "output_type": "execute_result"
    }
   ],
   "source": [
    "checkpoint_numeric['header']"
   ]
  },
  {
   "cell_type": "code",
   "execution_count": 125,
   "id": "a3616229-df62-4874-8280-d7c23fce832a",
   "metadata": {},
   "outputs": [
    {
     "data": {
      "text/plain": [
       "array([[48010226.  ,    35000.  ,    31933.3 , ...,       13.  ,        1.  ,        1.  ],\n",
       "       [57693261.  ,    30000.  ,    27132.46, ...,        5.  ,        1.  ,        4.  ],\n",
       "       [59432726.  ,    15000.  ,    13326.3 , ...,       10.  ,        1.  ,        4.  ],\n",
       "       ...,\n",
       "       [50415990.  ,    10000.  ,     8910.3 , ...,        5.  ,        1.  ,        1.  ],\n",
       "       [46154151.  ,    35000.  ,    31490.9 , ...,       17.  ,        1.  ,        3.  ],\n",
       "       [66055249.  ,    10000.  ,     9145.8 , ...,        4.  ,        0.  ,        3.  ]])"
      ]
     },
     "execution_count": 125,
     "metadata": {},
     "output_type": "execute_result"
    }
   ],
   "source": [
    "loan_data"
   ]
  },
  {
   "cell_type": "code",
   "execution_count": 126,
   "id": "1150e7ee-fd47-4872-b3f6-c4b6d59f131a",
   "metadata": {},
   "outputs": [],
   "source": [
    "header_full = np.concatenate((checkpoint_numeric['header'], checkpoint_string['header']))"
   ]
  },
  {
   "cell_type": "code",
   "execution_count": 127,
   "id": "dc57a09d-22c5-475d-9399-528ed2f6272a",
   "metadata": {},
   "outputs": [
    {
     "data": {
      "text/plain": [
       "array(['id', 'loan_amnt_USD', 'loan_amnt_EUR', 'funded_amnt_USD', 'funded_amnt_EUR', 'int_rate',\n",
       "       'installment_USD', 'installment_EUR', 'total_pymnt_USD', 'total_pymnt_EUR', 'exchange_rate',\n",
       "       'issue_date', 'loan_status', 'loan_term', 'sub_grade', 'verification_status',\n",
       "       'state_address'], dtype='<U19')"
      ]
     },
     "execution_count": 127,
     "metadata": {},
     "output_type": "execute_result"
    }
   ],
   "source": [
    "header_full"
   ]
  },
  {
   "cell_type": "markdown",
   "id": "3684a0e4-6839-4a5b-b35e-4ea30b6cc230",
   "metadata": {},
   "source": [
    "### Sorting data"
   ]
  },
  {
   "cell_type": "code",
   "execution_count": 128,
   "id": "ff4906c8-6491-4a28-b5cc-be6b7e86866d",
   "metadata": {},
   "outputs": [
    {
     "data": {
      "text/plain": [
       "array([2086, 4812, 2353, ..., 4935, 9388, 8415], dtype=int64)"
      ]
     },
     "execution_count": 128,
     "metadata": {},
     "output_type": "execute_result"
    }
   ],
   "source": [
    "np.argsort(loan_data[:,0])"
   ]
  },
  {
   "cell_type": "code",
   "execution_count": 130,
   "id": "c21e2473-bdb3-44ba-be75-350df36b024f",
   "metadata": {},
   "outputs": [],
   "source": [
    "loan_data = loan_data[np.argsort(loan_data[:,0])]"
   ]
  },
  {
   "cell_type": "code",
   "execution_count": 132,
   "id": "b179ce1a-e44a-4a74-bb93-8f9eaf2d399b",
   "metadata": {},
   "outputs": [
    {
     "data": {
      "text/plain": [
       "array([[  373332.  ,     9950.  ,     9038.08, ...,       21.  ,        0.  ,        1.  ],\n",
       "       [  575239.  ,    12000.  ,    10900.2 , ...,       25.  ,        1.  ,        2.  ],\n",
       "       [  707689.  ,    10000.  ,     8924.3 , ...,       13.  ,        1.  ,        0.  ],\n",
       "       ...,\n",
       "       [68614880.  ,     5600.  ,     5121.65, ...,        8.  ,        1.  ,        1.  ],\n",
       "       [68615915.  ,     4000.  ,     3658.32, ...,       10.  ,        1.  ,        2.  ],\n",
       "       [68616519.  ,    21600.  ,    19754.93, ...,        3.  ,        0.  ,        2.  ]])"
      ]
     },
     "execution_count": 132,
     "metadata": {},
     "output_type": "execute_result"
    }
   ],
   "source": [
    "loan_data"
   ]
  },
  {
   "cell_type": "markdown",
   "id": "d667b5ce-9687-4697-bf1b-53eb0b0e2138",
   "metadata": {},
   "source": [
    "### Saving the output"
   ]
  },
  {
   "cell_type": "code",
   "execution_count": 133,
   "id": "26673aa0-b72b-4a5b-b67a-fe5c559695a9",
   "metadata": {},
   "outputs": [],
   "source": [
    "loan_data = np.vstack((header_full, loan_data))"
   ]
  },
  {
   "cell_type": "code",
   "execution_count": 135,
   "id": "8fd9455e-cbf1-4c95-a21f-7969a37cf0e4",
   "metadata": {},
   "outputs": [
    {
     "data": {
      "text/plain": [
       "array([['id', 'loan_amnt_USD', 'loan_amnt_EUR', ..., 'sub_grade', 'verification_status',\n",
       "        'state_address'],\n",
       "       ['373332.0', '9950.0', '9038.082814338286', ..., '21.0', '0.0', '1.0'],\n",
       "       ['575239.0', '12000.0', '10900.20037910145', ..., '25.0', '1.0', '2.0'],\n",
       "       ...,\n",
       "       ['68614880.0', '5600.0', '5121.647851612413', ..., '8.0', '1.0', '1.0'],\n",
       "       ['68615915.0', '4000.0', '3658.319894008867', ..., '10.0', '1.0', '2.0'],\n",
       "       ['68616519.0', '21600.0', '19754.927427647883', ..., '3.0', '0.0', '2.0']], dtype='<U32')"
      ]
     },
     "execution_count": 135,
     "metadata": {},
     "output_type": "execute_result"
    }
   ],
   "source": [
    "loan_data"
   ]
  },
  {
   "cell_type": "code",
   "execution_count": 136,
   "id": "764b6572-0f7d-495d-b6d7-3cec983505a3",
   "metadata": {},
   "outputs": [],
   "source": [
    "np.savetxt(\"Preprocessed-Data.csv\",\n",
    "           loan_data,\n",
    "           delimiter = \",\",\n",
    "           fmt = \"%s\")"
   ]
  },
  {
   "cell_type": "code",
   "execution_count": null,
   "id": "0f93720f-e054-4d4f-99f5-c9b91fdea90a",
   "metadata": {},
   "outputs": [],
   "source": []
  }
 ],
 "metadata": {
  "kernelspec": {
   "display_name": "Python 3 (ipykernel)",
   "language": "python",
   "name": "python3"
  },
  "language_info": {
   "codemirror_mode": {
    "name": "ipython",
    "version": 3
   },
   "file_extension": ".py",
   "mimetype": "text/x-python",
   "name": "python",
   "nbconvert_exporter": "python",
   "pygments_lexer": "ipython3",
   "version": "3.11.7"
  }
 },
 "nbformat": 4,
 "nbformat_minor": 5
}
